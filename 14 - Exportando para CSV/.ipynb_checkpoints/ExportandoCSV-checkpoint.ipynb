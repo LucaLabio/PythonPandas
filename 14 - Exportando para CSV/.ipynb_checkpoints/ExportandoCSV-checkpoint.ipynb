{
 "cells": [
  {
   "cell_type": "code",
   "execution_count": 2,
   "metadata": {},
   "outputs": [],
   "source": [
    "import pandas as pd\n",
    "df = pd.DataFrame({\n",
    "    'Nomes':['Ronie Santos de Menezes','Danilo Maia Boccomino','Beatriz Kül Rezende','André Lorenção','Luca Gouveia'],\n",
    "    'idades':['17','20','18','19','18'],\n",
    "    'tamanho':['1,75','1,82','1,60','1,87','1,80']\n",
    "    })"
   ]
  },
  {
   "cell_type": "code",
   "execution_count": 17,
   "metadata": {},
   "outputs": [],
   "source": [
    "#tipos de encoding: utf-8 | iso-8859-1 | utf-16\n",
    "df.to_csv('dados.csv', encoding='iso-8859-1', sep=';',index=False)"
   ]
  },
  {
   "cell_type": "code",
   "execution_count": 18,
   "metadata": {},
   "outputs": [
    {
     "data": {
      "text/html": [
       "<div>\n",
       "<style scoped>\n",
       "    .dataframe tbody tr th:only-of-type {\n",
       "        vertical-align: middle;\n",
       "    }\n",
       "\n",
       "    .dataframe tbody tr th {\n",
       "        vertical-align: top;\n",
       "    }\n",
       "\n",
       "    .dataframe thead th {\n",
       "        text-align: right;\n",
       "    }\n",
       "</style>\n",
       "<table border=\"1\" class=\"dataframe\">\n",
       "  <thead>\n",
       "    <tr style=\"text-align: right;\">\n",
       "      <th></th>\n",
       "      <th>Nomes</th>\n",
       "      <th>idades</th>\n",
       "      <th>tamanho</th>\n",
       "    </tr>\n",
       "  </thead>\n",
       "  <tbody>\n",
       "    <tr>\n",
       "      <th>0</th>\n",
       "      <td>Ronie Santos de Menezes</td>\n",
       "      <td>17</td>\n",
       "      <td>1,75</td>\n",
       "    </tr>\n",
       "    <tr>\n",
       "      <th>1</th>\n",
       "      <td>Danilo Maia Boccomino</td>\n",
       "      <td>20</td>\n",
       "      <td>1,82</td>\n",
       "    </tr>\n",
       "    <tr>\n",
       "      <th>2</th>\n",
       "      <td>Beatriz Kül Rezende</td>\n",
       "      <td>18</td>\n",
       "      <td>1,60</td>\n",
       "    </tr>\n",
       "    <tr>\n",
       "      <th>3</th>\n",
       "      <td>André Lorenção</td>\n",
       "      <td>19</td>\n",
       "      <td>1,87</td>\n",
       "    </tr>\n",
       "    <tr>\n",
       "      <th>4</th>\n",
       "      <td>Luca Gouveia</td>\n",
       "      <td>18</td>\n",
       "      <td>1,80</td>\n",
       "    </tr>\n",
       "  </tbody>\n",
       "</table>\n",
       "</div>"
      ],
      "text/plain": [
       "                     Nomes idades tamanho\n",
       "0  Ronie Santos de Menezes     17    1,75\n",
       "1    Danilo Maia Boccomino     20    1,82\n",
       "2      Beatriz Kül Rezende     18    1,60\n",
       "3           André Lorenção     19    1,87\n",
       "4             Luca Gouveia     18    1,80"
      ]
     },
     "execution_count": 18,
     "metadata": {},
     "output_type": "execute_result"
    }
   ],
   "source": [
    "df"
   ]
  },
  {
   "cell_type": "code",
   "execution_count": null,
   "metadata": {},
   "outputs": [],
   "source": []
  }
 ],
 "metadata": {
  "kernelspec": {
   "display_name": "Python 3",
   "language": "python",
   "name": "python3"
  },
  "language_info": {
   "codemirror_mode": {
    "name": "ipython",
    "version": 3
   },
   "file_extension": ".py",
   "mimetype": "text/x-python",
   "name": "python",
   "nbconvert_exporter": "python",
   "pygments_lexer": "ipython3",
   "version": "3.7.6"
  }
 },
 "nbformat": 4,
 "nbformat_minor": 4
}
