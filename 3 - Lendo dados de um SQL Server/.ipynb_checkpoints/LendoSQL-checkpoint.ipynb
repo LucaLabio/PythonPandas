{
 "cells": [
  {
   "cell_type": "code",
   "execution_count": 7,
   "metadata": {},
   "outputs": [],
   "source": [
    "import pandas as pd\n",
    "import sqlite3"
   ]
  },
  {
   "cell_type": "code",
   "execution_count": 14,
   "metadata": {},
   "outputs": [],
   "source": [
    "#Criando conexao\n",
    "connection = sqlite3.connect('banco.db')"
   ]
  },
  {
   "cell_type": "code",
   "execution_count": 15,
   "metadata": {},
   "outputs": [],
   "source": [
    "#Referenciando a tabela a ser analisada\n",
    "table = pd.read_sql_query('SELECT * FROM dados', connection)"
   ]
  },
  {
   "cell_type": "code",
   "execution_count": 16,
   "metadata": {},
   "outputs": [
    {
     "name": "stdout",
     "output_type": "stream",
     "text": [
      "    BusinessEntityID PersonType NameStyle Title  FirstName MiddleName  \\\n",
      "0                  1         EM         0  NULL        Ken          J   \n",
      "1                  2         EM         0  NULL      Terri        Lee   \n",
      "2                  3         EM         0  NULL    Roberto       NULL   \n",
      "3                  4         EM         0  NULL        Rob       NULL   \n",
      "4                  5         EM         0   Ms.       Gail          A   \n",
      "..               ...        ...       ...   ...        ...        ...   \n",
      "995             1700         IN         0   Ms.    Rebecca         A.   \n",
      "996             1701         IN         0   Ms.    Dorothy         B.   \n",
      "997             1702         IN         0   Ms.  Carol Ann         F.   \n",
      "998             1703         IN         0   Mr.      Scott         M.   \n",
      "999             1704         IN         0   Mr.        Jim       NULL   \n",
      "\n",
      "       LastName Suffix EmailPromotion  \n",
      "0       Sánchez   NULL              0  \n",
      "1         Duffy   NULL              1  \n",
      "2    Tamburello   NULL              0  \n",
      "3       Walters   NULL              0  \n",
      "4      Erickson   NULL              0  \n",
      "..          ...    ...            ...  \n",
      "995    Robinson   NULL              0  \n",
      "996    Robinson   NULL              2  \n",
      "997      Rockne   NULL              0  \n",
      "998     Rodgers   NULL              0  \n",
      "999      Rodman   NULL              0  \n",
      "\n",
      "[1000 rows x 9 columns]\n"
     ]
    }
   ],
   "source": [
    "print(table)"
   ]
  },
  {
   "cell_type": "code",
   "execution_count": 22,
   "metadata": {},
   "outputs": [],
   "source": [
    "#Comando SQL\n",
    "sql = \"SELECT FirstName FROM dados LIMIT 10\""
   ]
  },
  {
   "cell_type": "code",
   "execution_count": 23,
   "metadata": {},
   "outputs": [],
   "source": [
    "#Executando o comando\n",
    "dados = pd.read_sql_query(sql, connection)"
   ]
  },
  {
   "cell_type": "code",
   "execution_count": 25,
   "metadata": {},
   "outputs": [
    {
     "data": {
      "text/html": [
       "<div>\n",
       "<style scoped>\n",
       "    .dataframe tbody tr th:only-of-type {\n",
       "        vertical-align: middle;\n",
       "    }\n",
       "\n",
       "    .dataframe tbody tr th {\n",
       "        vertical-align: top;\n",
       "    }\n",
       "\n",
       "    .dataframe thead th {\n",
       "        text-align: right;\n",
       "    }\n",
       "</style>\n",
       "<table border=\"1\" class=\"dataframe\">\n",
       "  <thead>\n",
       "    <tr style=\"text-align: right;\">\n",
       "      <th></th>\n",
       "      <th>FirstName</th>\n",
       "    </tr>\n",
       "  </thead>\n",
       "  <tbody>\n",
       "    <tr>\n",
       "      <th>0</th>\n",
       "      <td>A.</td>\n",
       "    </tr>\n",
       "    <tr>\n",
       "      <th>1</th>\n",
       "      <td>A. Scott</td>\n",
       "    </tr>\n",
       "    <tr>\n",
       "      <th>2</th>\n",
       "      <td>Aaron</td>\n",
       "    </tr>\n",
       "    <tr>\n",
       "      <th>3</th>\n",
       "      <td>Abigail</td>\n",
       "    </tr>\n",
       "    <tr>\n",
       "      <th>4</th>\n",
       "      <td>Adam</td>\n",
       "    </tr>\n",
       "    <tr>\n",
       "      <th>5</th>\n",
       "      <td>Adam</td>\n",
       "    </tr>\n",
       "    <tr>\n",
       "      <th>6</th>\n",
       "      <td>Adrian</td>\n",
       "    </tr>\n",
       "    <tr>\n",
       "      <th>7</th>\n",
       "      <td>Aidan</td>\n",
       "    </tr>\n",
       "    <tr>\n",
       "      <th>8</th>\n",
       "      <td>Ajay</td>\n",
       "    </tr>\n",
       "    <tr>\n",
       "      <th>9</th>\n",
       "      <td>Alan</td>\n",
       "    </tr>\n",
       "  </tbody>\n",
       "</table>\n",
       "</div>"
      ],
      "text/plain": [
       "  FirstName\n",
       "0        A.\n",
       "1  A. Scott\n",
       "2     Aaron\n",
       "3   Abigail\n",
       "4      Adam\n",
       "5      Adam\n",
       "6    Adrian\n",
       "7     Aidan\n",
       "8      Ajay\n",
       "9      Alan"
      ]
     },
     "execution_count": 25,
     "metadata": {},
     "output_type": "execute_result"
    }
   ],
   "source": [
    "#Exibindo os dados filtrados\n",
    "dados"
   ]
  },
  {
   "cell_type": "code",
   "execution_count": 26,
   "metadata": {},
   "outputs": [],
   "source": [
    "connection.close()"
   ]
  }
 ],
 "metadata": {
  "kernelspec": {
   "display_name": "Python 3",
   "language": "python",
   "name": "python3"
  },
  "language_info": {
   "codemirror_mode": {
    "name": "ipython",
    "version": 3
   },
   "file_extension": ".py",
   "mimetype": "text/x-python",
   "name": "python",
   "nbconvert_exporter": "python",
   "pygments_lexer": "ipython3",
   "version": "3.7.6"
  }
 },
 "nbformat": 4,
 "nbformat_minor": 4
}
